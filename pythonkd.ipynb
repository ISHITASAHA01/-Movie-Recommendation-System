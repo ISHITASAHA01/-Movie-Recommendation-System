{
  "nbformat": 4,
  "nbformat_minor": 0,
  "metadata": {
    "colab": {
      "provenance": [],
      "authorship_tag": "ABX9TyPVvRa0ASfjad8yTyRr368e",
      "include_colab_link": true
    },
    "kernelspec": {
      "name": "python3",
      "display_name": "Python 3"
    },
    "language_info": {
      "name": "python"
    }
  },
  "cells": [
    {
      "cell_type": "markdown",
      "metadata": {
        "id": "view-in-github",
        "colab_type": "text"
      },
      "source": [
        "<a href=\"https://colab.research.google.com/github/ISHITASAHA01/-Movie-Recommendation-System/blob/main/pythonkd.ipynb\" target=\"_parent\"><img src=\"https://colab.research.google.com/assets/colab-badge.svg\" alt=\"Open In Colab\"/></a>"
      ]
    },
    {
      "cell_type": "code",
      "execution_count": null,
      "metadata": {
        "colab": {
          "base_uri": "https://localhost:8080/"
        },
        "id": "cxkXeoBAThMa",
        "outputId": "6c42e002-2952-406c-b4e3-c7c2acd9f852"
      },
      "outputs": [
        {
          "output_type": "stream",
          "name": "stdout",
          "text": [
            "hello world\n"
          ]
        }
      ],
      "source": [
        "print(\"hello world\")\n"
      ]
    },
    {
      "cell_type": "markdown",
      "source": [],
      "metadata": {
        "id": "eai6cLD6Vhht"
      }
    },
    {
      "cell_type": "code",
      "source": [
        "#print the value of element\n",
        "a=5\n",
        "b=6\n",
        "c=a+b\n",
        "print('the value of a is {},the value of b is {} and the value the value of sum is {}'.format(b,a,c))"
      ],
      "metadata": {
        "colab": {
          "base_uri": "https://localhost:8080/"
        },
        "id": "H2TM580CU4tc",
        "outputId": "32ca8814-5f6c-4c7b-fdb7-8a1989a66d2a"
      },
      "execution_count": null,
      "outputs": [
        {
          "output_type": "stream",
          "name": "stdout",
          "text": [
            "the value of a is 6,the value of b is 5 and the value the value of sum is 11\n"
          ]
        }
      ]
    },
    {
      "cell_type": "code",
      "source": [
        "#print the value of element\n",
        "a=5\n",
        "b=6\n",
        "c=a+b\n",
        "print('the value of a is {0} ,the value of b is {1} and the value the value of sum is {2}'.format(a,b,c))"
      ],
      "metadata": {
        "id": "zWJ3c7h7VBDk",
        "colab": {
          "base_uri": "https://localhost:8080/"
        },
        "outputId": "233fb800-c85f-4ccb-b317-609a28bcebeb"
      },
      "execution_count": null,
      "outputs": [
        {
          "output_type": "stream",
          "name": "stdout",
          "text": [
            "the value of a is 5,the value of b is 6 and the value the value of sum is 11\n"
          ]
        }
      ]
    },
    {
      "cell_type": "code",
      "source": [
        "#print the value of element\n",
        "a=5\n",
        "b=6\n",
        "c=a+b\n",
        "print('the value of a =',a ,'the value of b =',b, ' the value the value of c =',c,)"
      ],
      "metadata": {
        "colab": {
          "base_uri": "https://localhost:8080/"
        },
        "id": "tVIV_IEDXNw0",
        "outputId": "5d516ac8-5551-4228-8e7b-92b58d7ff204"
      },
      "execution_count": null,
      "outputs": [
        {
          "output_type": "stream",
          "name": "stdout",
          "text": [
            "the value of a = 5 the value of b = 6  the value the value of c = 11\n"
          ]
        }
      ]
    },
    {
      "cell_type": "code",
      "source": [
        "#swapping\n",
        "a=5\n",
        "b=6\n",
        "print('befor swapping a =', a, 'and b =',b)\n",
        "team=a\n",
        "a=b\n",
        "b=team\n",
        "print('after swaping a =',a, 'and b =', b)\n"
      ],
      "metadata": {
        "colab": {
          "base_uri": "https://localhost:8080/"
        },
        "id": "ZF93dVawXvVc",
        "outputId": "1da65946-1982-48ec-ed99-c08d439262d7"
      },
      "execution_count": null,
      "outputs": [
        {
          "output_type": "stream",
          "name": "stdout",
          "text": [
            "befor swapping a = 5 and b = 6\n",
            "after swaping a = 6 and b = 5\n"
          ]
        }
      ]
    },
    {
      "cell_type": "code",
      "source": [
        "#swaping\n",
        "a=5\n",
        "b=6\n",
        "print('befor swapping a =', a, 'and b=',b)\n",
        "a=a+b\n",
        "b=a-b\n",
        "a=a-b\n",
        "print('after swaping a =', a, 'and b =', b)"
      ],
      "metadata": {
        "colab": {
          "base_uri": "https://localhost:8080/"
        },
        "id": "DrlabMXYYX6b",
        "outputId": "fbcc2425-01d6-4dee-a12c-bf3006b2ed79"
      },
      "execution_count": null,
      "outputs": [
        {
          "output_type": "stream",
          "name": "stdout",
          "text": [
            "befor swapping a = 5 and b= 6\n",
            "after swaping a = 6 and b = 5\n"
          ]
        }
      ]
    },
    {
      "cell_type": "code",
      "source": [],
      "metadata": {
        "id": "9LC5oLdhabCN"
      },
      "execution_count": null,
      "outputs": []
    },
    {
      "cell_type": "code",
      "source": [
        "#int(input())\n",
        "a=int(input('Enter the value for a'))\n",
        "print(a)\n",
        "b =int(input('Enter the value for b'))\n",
        "print(b)\n",
        "c =a+b\n",
        "print(c)\n",
        "\n"
      ],
      "metadata": {
        "colab": {
          "base_uri": "https://localhost:8080/"
        },
        "id": "NGACKyfJY4YN",
        "outputId": "fe96072d-8215-44ee-f010-2929529c4421"
      },
      "execution_count": null,
      "outputs": [
        {
          "output_type": "stream",
          "name": "stdout",
          "text": [
            "Enter the value for a5\n",
            "5\n",
            "Enter the value for b4\n",
            "4\n",
            "9\n"
          ]
        }
      ]
    },
    {
      "cell_type": "code",
      "source": [
        "#print in there lines\n",
        "print('''kolkata\n",
        "dehi\n",
        "bombay''')"
      ],
      "metadata": {
        "colab": {
          "base_uri": "https://localhost:8080/"
        },
        "id": "hDugOJEfagwM",
        "outputId": "5f8727ad-d649-475d-e683-ecab1fbb54e3"
      },
      "execution_count": null,
      "outputs": [
        {
          "output_type": "stream",
          "name": "stdout",
          "text": [
            "kolkata\n",
            "dehi\n",
            "bombay\n"
          ]
        }
      ]
    },
    {
      "cell_type": "code",
      "source": [
        "#print in there lines\n",
        "print('kolkata\\ndelhi\\nbomby')"
      ],
      "metadata": {
        "colab": {
          "base_uri": "https://localhost:8080/"
        },
        "id": "t970lCb0bY1l",
        "outputId": "464665b6-6ac8-4ab8-83aa-de643abcbe3b"
      },
      "execution_count": null,
      "outputs": [
        {
          "output_type": "stream",
          "name": "stdout",
          "text": [
            "kolkata\n",
            "delhi\n",
            "bomby\n"
          ]
        }
      ]
    },
    {
      "cell_type": "code",
      "source": [
        "#find the data type\n",
        "a=5\n",
        "type(a)"
      ],
      "metadata": {
        "colab": {
          "base_uri": "https://localhost:8080/"
        },
        "id": "3n9tkdhCbjyE",
        "outputId": "812424c7-e962-4db0-a4a4-27d98bf34ebe"
      },
      "execution_count": null,
      "outputs": [
        {
          "output_type": "execute_result",
          "data": {
            "text/plain": [
              "int"
            ]
          },
          "metadata": {},
          "execution_count": 24
        }
      ]
    },
    {
      "cell_type": "code",
      "source": [
        "a=8.9\n",
        "type(a)"
      ],
      "metadata": {
        "colab": {
          "base_uri": "https://localhost:8080/"
        },
        "id": "HDCTKuChb8m8",
        "outputId": "72dd5dac-3407-40ba-c06f-fdbbf09fada9"
      },
      "execution_count": null,
      "outputs": [
        {
          "output_type": "execute_result",
          "data": {
            "text/plain": [
              "float"
            ]
          },
          "metadata": {},
          "execution_count": 25
        }
      ]
    },
    {
      "cell_type": "code",
      "source": [
        "#find the data type\n",
        "x=5>3\n",
        "type(x)"
      ],
      "metadata": {
        "colab": {
          "base_uri": "https://localhost:8080/"
        },
        "id": "wJkGzh8fcDDj",
        "outputId": "95052bad-3ac3-4011-c0c6-9f9c2831705c"
      },
      "execution_count": null,
      "outputs": [
        {
          "output_type": "execute_result",
          "data": {
            "text/plain": [
              "bool"
            ]
          },
          "metadata": {},
          "execution_count": 26
        }
      ]
    },
    {
      "cell_type": "code",
      "source": [
        "#boolean\n",
        "a=5\n",
        "b=10\n",
        "a<=b"
      ],
      "metadata": {
        "colab": {
          "base_uri": "https://localhost:8080/"
        },
        "id": "vbjtAkbxcPa7",
        "outputId": "4230cdc1-c921-4271-d933-79028b1a3e61"
      },
      "execution_count": null,
      "outputs": [
        {
          "output_type": "execute_result",
          "data": {
            "text/plain": [
              "True"
            ]
          },
          "metadata": {},
          "execution_count": 27
        }
      ]
    },
    {
      "cell_type": "code",
      "source": [
        "#find the memory location\n",
        "a=8\n",
        "print(id(a))\n",
        "b=5.9\n",
        "id(b)"
      ],
      "metadata": {
        "colab": {
          "base_uri": "https://localhost:8080/"
        },
        "id": "3lNMcN7wckMz",
        "outputId": "4562c612-263f-468f-bc76-0cfd1399fcad"
      },
      "execution_count": null,
      "outputs": [
        {
          "output_type": "stream",
          "name": "stdout",
          "text": [
            "132431778349520\n"
          ]
        },
        {
          "output_type": "execute_result",
          "data": {
            "text/plain": [
              "132430510718288"
            ]
          },
          "metadata": {},
          "execution_count": 28
        }
      ]
    },
    {
      "cell_type": "code",
      "source": [
        "#complex number\n",
        "import cmath\n",
        "a=2\n",
        "b=5\n",
        "c=complex(a,b)\n",
        "print(c)\n",
        "print('real part of the complex number =',c.real)\n",
        "print('imaginary part of the complex number=',c.imag)\n",
        "print('the complex number =',cmath.phase(c))"
      ],
      "metadata": {
        "colab": {
          "base_uri": "https://localhost:8080/"
        },
        "id": "DVqPIfUbdUY0",
        "outputId": "88a00d12-8d50-4433-c202-fcd31efa8d80"
      },
      "execution_count": null,
      "outputs": [
        {
          "output_type": "stream",
          "name": "stdout",
          "text": [
            "(2+5j)\n",
            "real part of the complex number = 2.0\n",
            "imaginary part of the complex number= 5.0\n",
            "the complex number = 1.1902899496825317\n"
          ]
        }
      ]
    },
    {
      "cell_type": "code",
      "source": [
        "#string\n",
        "a='hit,haldia,2334'\n",
        "print(a)\n",
        "#slicng\n",
        "print(a[0:2])\n",
        "print(a[0:3])\n",
        "print(a[:5])\n",
        "print(a[1:])\n",
        "print(a[5:11])\n",
        "print(a[-4])#revers order #negetive slicing\n",
        "print(a[-3:-1])\n",
        "print(a[-3])\n"
      ],
      "metadata": {
        "colab": {
          "base_uri": "https://localhost:8080/"
        },
        "id": "qoW2PjH9evac",
        "outputId": "75f65719-1920-45c2-ae7a-1dd80694142c"
      },
      "execution_count": null,
      "outputs": [
        {
          "output_type": "stream",
          "name": "stdout",
          "text": [
            "hit,haldia,2334\n",
            "hi\n",
            "hit\n",
            "hit,h\n",
            "it,haldia,2334\n",
            "aldia,\n",
            "2\n",
            "33\n",
            "3\n"
          ]
        }
      ]
    },
    {
      "cell_type": "code",
      "source": [
        "#list\n",
        "a=[10,20,3,4,30,5,56,'hit']\n",
        "print(a[0:2])#list slicing\n",
        "type(a)\n"
      ],
      "metadata": {
        "colab": {
          "base_uri": "https://localhost:8080/"
        },
        "id": "l6A5Le40f1kq",
        "outputId": "57419eb2-8853-4f5d-cfed-e3f5071b1def"
      },
      "execution_count": null,
      "outputs": [
        {
          "output_type": "stream",
          "name": "stdout",
          "text": [
            "[10, 20]\n"
          ]
        },
        {
          "output_type": "execute_result",
          "data": {
            "text/plain": [
              "list"
            ]
          },
          "metadata": {},
          "execution_count": 40
        }
      ]
    },
    {
      "cell_type": "code",
      "source": [
        "#different list\n",
        "a=[10,20,30,40,]\n",
        "\n",
        "a.append (50)\n",
        "print(a)\n",
        "a.pop(0)\n",
        "print(a)\n",
        "a.remove(40)\n",
        "print(a)\n",
        "a.insert(3,35)\n",
        "print(a)\n",
        "a.reverse()\n",
        "print(a)\n",
        "a.sort()\n",
        "print(a)\n",
        "a.count(35)#frequency of appearing\n",
        "\n"
      ],
      "metadata": {
        "colab": {
          "base_uri": "https://localhost:8080/"
        },
        "id": "tHU1YFThi2es",
        "outputId": "0063f5c8-dd65-4f20-c3cf-bc8efd143d33"
      },
      "execution_count": null,
      "outputs": [
        {
          "output_type": "stream",
          "name": "stdout",
          "text": [
            "[10, 20, 30, 40, 50]\n",
            "[20, 30, 40, 50]\n",
            "[20, 30, 50]\n",
            "[20, 30, 50, 35]\n",
            "[35, 50, 30, 20]\n",
            "[20, 30, 35, 50]\n"
          ]
        },
        {
          "output_type": "execute_result",
          "data": {
            "text/plain": [
              "1"
            ]
          },
          "metadata": {},
          "execution_count": 57
        }
      ]
    },
    {
      "cell_type": "code",
      "source": [
        "#tuple index\n",
        "tup=(10,20,30,40,50,60,'hit',3.98)\n",
        "print(tup.index(40))"
      ],
      "metadata": {
        "colab": {
          "base_uri": "https://localhost:8080/"
        },
        "id": "9Sy8xrMnj3Kz",
        "outputId": "aca070fb-755f-4493-ac4a-353d1e8d799a"
      },
      "execution_count": null,
      "outputs": [
        {
          "output_type": "stream",
          "name": "stdout",
          "text": [
            "3\n"
          ]
        }
      ]
    },
    {
      "cell_type": "code",
      "source": [
        "#tuple to list conversion\n",
        "T=(10,2.35,'hit',50)\n",
        "L=list(T)\n",
        "print(L)"
      ],
      "metadata": {
        "colab": {
          "base_uri": "https://localhost:8080/"
        },
        "id": "JZ_aNqGzlmyC",
        "outputId": "15530789-4331-4a4b-e668-dbf8dae51560"
      },
      "execution_count": null,
      "outputs": [
        {
          "output_type": "stream",
          "name": "stdout",
          "text": [
            "[10, 2.35, 'hit', 50]\n"
          ]
        }
      ]
    },
    {
      "cell_type": "code",
      "source": [
        "#list to Tupple convertion\n",
        "T=tuple(L)\n",
        "print(T)"
      ],
      "metadata": {
        "colab": {
          "base_uri": "https://localhost:8080/"
        },
        "id": "dPTxkKVrmaKT",
        "outputId": "e09ce2b3-cc9f-4f79-af04-0eaf60dd3b86"
      },
      "execution_count": null,
      "outputs": [
        {
          "output_type": "stream",
          "name": "stdout",
          "text": [
            "(10, 2.35, 'hit', 50)\n"
          ]
        }
      ]
    },
    {
      "cell_type": "code",
      "source": [
        "#rang\n",
        "b=range(0,10)\n",
        "print(b)\n",
        "for i in b:\n",
        "  print(i)"
      ],
      "metadata": {
        "colab": {
          "base_uri": "https://localhost:8080/"
        },
        "id": "03D2GwHjnNZL",
        "outputId": "c8e6f1ba-0a78-4a50-baeb-abe72e8aa6f2"
      },
      "execution_count": null,
      "outputs": [
        {
          "output_type": "stream",
          "name": "stdout",
          "text": [
            "range(0, 10)\n",
            "0\n",
            "1\n",
            "2\n",
            "3\n",
            "4\n",
            "5\n",
            "6\n",
            "7\n",
            "8\n",
            "9\n"
          ]
        }
      ]
    },
    {
      "cell_type": "code",
      "source": [
        "#rang\n",
        "b=range(2,10)\n",
        "print(b)\n",
        "for i in b:\n",
        "  print(i)"
      ],
      "metadata": {
        "colab": {
          "base_uri": "https://localhost:8080/"
        },
        "id": "MX2OjT0jnvn1",
        "outputId": "be78399c-0f3d-453a-f208-373d35188258"
      },
      "execution_count": null,
      "outputs": [
        {
          "output_type": "stream",
          "name": "stdout",
          "text": [
            "range(2, 10)\n",
            "2\n",
            "3\n",
            "4\n",
            "5\n",
            "6\n",
            "7\n",
            "8\n",
            "9\n"
          ]
        }
      ]
    },
    {
      "cell_type": "code",
      "source": [
        "#rang\n",
        "b=range( 10,1,-1)\n",
        "print(b)\n",
        "for i in b:\n",
        "  print(i)"
      ],
      "metadata": {
        "colab": {
          "base_uri": "https://localhost:8080/"
        },
        "id": "1DOvBIoVo6Jr",
        "outputId": "4632255c-b9ef-4ac1-8d04-191cfed52dfd"
      },
      "execution_count": null,
      "outputs": [
        {
          "output_type": "stream",
          "name": "stdout",
          "text": [
            "range(10, 1, -1)\n",
            "10\n",
            "9\n",
            "8\n",
            "7\n",
            "6\n",
            "5\n",
            "4\n",
            "3\n",
            "2\n"
          ]
        }
      ]
    },
    {
      "cell_type": "code",
      "source": [
        "#rang\n",
        "b=range( 10,1,-2)\n",
        "print(b)\n",
        "for i in b:\n",
        "  print(i)"
      ],
      "metadata": {
        "colab": {
          "base_uri": "https://localhost:8080/"
        },
        "id": "7Dn7qYawpBjb",
        "outputId": "0379ebde-e9ef-410e-da4b-06a9c8581972"
      },
      "execution_count": null,
      "outputs": [
        {
          "output_type": "stream",
          "name": "stdout",
          "text": [
            "range(10, 1, -2)\n",
            "10\n",
            "8\n",
            "6\n",
            "4\n",
            "2\n"
          ]
        }
      ]
    },
    {
      "cell_type": "code",
      "source": [
        "#rang\n",
        "b=range( 1,10)\n",
        "print(b)\n",
        "for i in b:\n",
        "  print(i)"
      ],
      "metadata": {
        "colab": {
          "base_uri": "https://localhost:8080/"
        },
        "id": "axZbG9_mpbA5",
        "outputId": "f29e71f8-bf1f-41ad-fd25-75176ba2447a"
      },
      "execution_count": null,
      "outputs": [
        {
          "output_type": "stream",
          "name": "stdout",
          "text": [
            "range(1, 10)\n",
            "1\n",
            "2\n",
            "3\n",
            "4\n",
            "5\n",
            "6\n",
            "7\n",
            "8\n",
            "9\n"
          ]
        }
      ]
    },
    {
      "cell_type": "code",
      "source": [
        "#rang\n",
        "b=range( 10,-1,-1)\n",
        "print(b)\n",
        "for i in b:\n",
        "  print(i)"
      ],
      "metadata": {
        "colab": {
          "base_uri": "https://localhost:8080/"
        },
        "id": "ZMsN7ALSqSa7",
        "outputId": "83b6b0f1-4f4b-4ef9-9f08-409830398340"
      },
      "execution_count": null,
      "outputs": [
        {
          "output_type": "stream",
          "name": "stdout",
          "text": [
            "range(10, -1, -1)\n",
            "10\n",
            "9\n",
            "8\n",
            "7\n",
            "6\n",
            "5\n",
            "4\n",
            "3\n",
            "2\n",
            "1\n",
            "0\n"
          ]
        }
      ]
    },
    {
      "cell_type": "code",
      "source": [
        "#rang\n",
        "b=range( 10,1,-3)\n",
        "print(b)\n",
        "for i in b:\n",
        "  print(i)"
      ],
      "metadata": {
        "colab": {
          "base_uri": "https://localhost:8080/"
        },
        "id": "JIwZ8aVGqmq0",
        "outputId": "ffbccdcd-fb7b-4b5b-c328-7243712a8925"
      },
      "execution_count": null,
      "outputs": [
        {
          "output_type": "stream",
          "name": "stdout",
          "text": [
            "range(10, 1, -3)\n",
            "10\n",
            "7\n",
            "4\n"
          ]
        }
      ]
    },
    {
      "cell_type": "code",
      "source": [
        "#set\n",
        "s={10,20,30,'mca',3.19}\n",
        "s.update([10,100,'kb'])\n",
        "print(s)#arbitary printing #less use"
      ],
      "metadata": {
        "colab": {
          "base_uri": "https://localhost:8080/"
        },
        "id": "zRsSNKP1q0xj",
        "outputId": "3f4ddff5-69d5-4099-b51c-f8be100d1012"
      },
      "execution_count": null,
      "outputs": [
        {
          "output_type": "stream",
          "name": "stdout",
          "text": [
            "{3.19, 20, 'mca', 100, 'kb', 10, 30}\n"
          ]
        }
      ]
    },
    {
      "cell_type": "code",
      "source": [
        "#mapping\n",
        "mp={10:'hit', 20:'mca',30:'first name'}\n",
        "print(mp)\n",
        "print(mp[20])\n",
        "print(mp.keys())\n",
        "type(mp)\n"
      ],
      "metadata": {
        "id": "4UirSPxlrbuj",
        "colab": {
          "base_uri": "https://localhost:8080/"
        },
        "outputId": "a1d08970-778f-49b6-9cc3-4a3e0dcf4bc5"
      },
      "execution_count": null,
      "outputs": [
        {
          "output_type": "stream",
          "name": "stdout",
          "text": [
            "{10: 'hit', 20: 'mca', 30: 'first name'}\n",
            "mca\n",
            "dict_keys([10, 20, 30])\n"
          ]
        },
        {
          "output_type": "execute_result",
          "data": {
            "text/plain": [
              "dict"
            ]
          },
          "metadata": {},
          "execution_count": 7
        }
      ]
    },
    {
      "cell_type": "code",
      "source": [
        "#check a number is odd or even\n",
        "x=int(input('Enter the number: '))\n",
        "if x%2==0:\n",
        "  print('even')\n",
        "else:\n",
        "  print('odd')"
      ],
      "metadata": {
        "colab": {
          "base_uri": "https://localhost:8080/"
        },
        "id": "ujq7OV0AjB11",
        "outputId": "119a8c29-a2ec-4572-cc81-78e45f098482"
      },
      "execution_count": null,
      "outputs": [
        {
          "output_type": "stream",
          "name": "stdout",
          "text": [
            "Enter the number: 15\n",
            "odd\n"
          ]
        }
      ]
    },
    {
      "cell_type": "code",
      "source": [
        "#largest number is checking\n",
        "x=int(input('Enter the number:  '))\n",
        "y=int(input('Enter the number:  '))\n",
        "if x>y:\n",
        "  print(\"the largest number is =\",x)\n",
        "else:\n",
        "  print(\"the smallest number is =\",y)"
      ],
      "metadata": {
        "colab": {
          "base_uri": "https://localhost:8080/"
        },
        "id": "MiqPzuEbjiT0",
        "outputId": "b010af89-6fc2-4a7f-96bf-31e13f52a533"
      },
      "execution_count": null,
      "outputs": [
        {
          "output_type": "stream",
          "name": "stdout",
          "text": [
            "Enter the number:  54\n",
            "Enter the number:  12\n",
            "the largest number is = 54\n"
          ]
        }
      ]
    },
    {
      "cell_type": "code",
      "source": [
        "#Display even  number 1to 10\n",
        "x=range(1,11)\n",
        "print(\"the even number from 1 to 10 are : \")\n",
        "for i in x:\n",
        "  if i%2==0:\n",
        "    print(i)"
      ],
      "metadata": {
        "colab": {
          "base_uri": "https://localhost:8080/"
        },
        "id": "DaTyDjZbmH-8",
        "outputId": "81a424bc-6fa0-4bc4-ccbd-030d2650ee27"
      },
      "execution_count": null,
      "outputs": [
        {
          "output_type": "stream",
          "name": "stdout",
          "text": [
            "the even number from 1 to 10 are : \n",
            "2\n",
            "4\n",
            "6\n",
            "8\n",
            "10\n"
          ]
        }
      ]
    },
    {
      "cell_type": "code",
      "source": [
        "#Display the odd number 1 to 10\n",
        "#x=range(1,11)\n",
        "range(1,11)\n",
        "print(\"the odd number from 1 to 10 are : \")\n",
        "for i in x:\n",
        "  if i%2!=0:\n",
        "    print(i)"
      ],
      "metadata": {
        "colab": {
          "base_uri": "https://localhost:8080/"
        },
        "id": "jkuAB2SVnIOs",
        "outputId": "482cc536-1ea1-48ad-90bd-3872a30f6512"
      },
      "execution_count": null,
      "outputs": [
        {
          "output_type": "stream",
          "name": "stdout",
          "text": [
            "the odd number from 1 to 10 are : \n",
            "1\n",
            "3\n",
            "5\n",
            "7\n",
            "9\n"
          ]
        }
      ]
    },
    {
      "cell_type": "code",
      "source": [
        "#table of a number grad system\n",
        "marks=float(input(\"Enter the marks  \"))\n",
        "if marks>=90:\n",
        "  print('Grade  O')\n",
        "elif marks<90 and marks >=80:\n",
        "  print('Grade E ')\n",
        "elif marks<80 and marks>=70:\n",
        "  print('Grade A')\n",
        "elif marks<70 and marks>=60:\n",
        "  print('Grade B')\n",
        "elif marks<60 and marks>=50:\n",
        "  print('Grade C')\n",
        "elif marks<50 and marks>=40:\n",
        "  print('Grade D')\n",
        "else:\n",
        " print('Fail')"
      ],
      "metadata": {
        "colab": {
          "base_uri": "https://localhost:8080/"
        },
        "id": "ekO6TgXcn64E",
        "outputId": "d475b3a3-aebf-48bf-e17f-958b61a702da"
      },
      "execution_count": null,
      "outputs": [
        {
          "output_type": "stream",
          "name": "stdout",
          "text": [
            "Enter the marks  20\n",
            "Fail\n"
          ]
        }
      ]
    },
    {
      "cell_type": "code",
      "source": [
        "#table of a number\n",
        "a=int(input('Upper limit of table? '))\n",
        "b=int(input('table for which number? '))\n",
        "c=range(1,a+1)\n",
        "for i in c:\n",
        "  print(b,'*' , i ,'=' ,b*i)"
      ],
      "metadata": {
        "colab": {
          "base_uri": "https://localhost:8080/"
        },
        "id": "12hHBkI8poFV",
        "outputId": "09aa94f8-4b75-434b-e19e-7f1912e13287"
      },
      "execution_count": null,
      "outputs": [
        {
          "output_type": "stream",
          "name": "stdout",
          "text": [
            "Upper limit of table? 10\n",
            "table for which number? 12\n",
            "12 * 1 = 12\n",
            "12 * 2 = 24\n",
            "12 * 3 = 36\n",
            "12 * 4 = 48\n",
            "12 * 5 = 60\n",
            "12 * 6 = 72\n",
            "12 * 7 = 84\n",
            "12 * 8 = 96\n",
            "12 * 9 = 108\n",
            "12 * 10 = 120\n"
          ]
        }
      ]
    },
    {
      "cell_type": "code",
      "source": [
        "#prime number\n",
        "a=int(input(\"enter the number  \"))\n",
        "flag=0\n",
        "if a==1:\n",
        "  print(\"neighter a prime nor a composite a number  \")\n",
        "else:\n",
        "  for i in range(2,a):\n",
        "   if a%i==0:\n",
        "    flag=flag+1\n",
        "    break\n",
        "if flag==0:\n",
        "    print(\"It is prime number  \")\n",
        "else:\n",
        "    print('It is not prime number  ')\n"
      ],
      "metadata": {
        "colab": {
          "base_uri": "https://localhost:8080/"
        },
        "id": "ANbDsSZCqu4c",
        "outputId": "60dbbf71-5ec9-4bad-8422-fdd6c520edce"
      },
      "execution_count": null,
      "outputs": [
        {
          "output_type": "stream",
          "name": "stdout",
          "text": [
            "enter the number  5\n",
            "It is prime number  \n"
          ]
        }
      ]
    },
    {
      "cell_type": "code",
      "source": [
        "#take multiple input from user\n",
        "a,b,c=input('Enter three number ').split()\n",
        "print(a,b,c)\n",
        "d=int(a)\n",
        "type(d)"
      ],
      "metadata": {
        "colab": {
          "base_uri": "https://localhost:8080/"
        },
        "id": "fvypihlQs0eF",
        "outputId": "ca935e6e-5913-4971-8762-55c994eb1c19"
      },
      "execution_count": null,
      "outputs": [
        {
          "output_type": "stream",
          "name": "stdout",
          "text": [
            "Enter three number 34 56 78\n",
            "34 56 78\n"
          ]
        },
        {
          "output_type": "execute_result",
          "data": {
            "text/plain": [
              "int"
            ]
          },
          "metadata": {},
          "execution_count": 35
        }
      ]
    },
    {
      "cell_type": "code",
      "source": [
        "a,b,c=input('Enter three number ').split(',')\n",
        "print(a,b,c)\n",
        "d=int(a)\n",
        "type(d)"
      ],
      "metadata": {
        "colab": {
          "base_uri": "https://localhost:8080/"
        },
        "id": "QgU44XyPvWht",
        "outputId": "4cc64032-b354-4778-cd50-c1f603e069bc"
      },
      "execution_count": null,
      "outputs": [
        {
          "output_type": "stream",
          "name": "stdout",
          "text": [
            "Enter three number 34,12 ,32\n",
            "34 12  32\n"
          ]
        },
        {
          "output_type": "execute_result",
          "data": {
            "text/plain": [
              "int"
            ]
          },
          "metadata": {},
          "execution_count": 38
        }
      ]
    },
    {
      "cell_type": "code",
      "source": [
        "#hit printing for n number time\n",
        "n=int(input(\"Enter the number value for n  \"))\n",
        "i=1\n",
        "while i<n:\n",
        "  print('hit')\n",
        "  i=i+1"
      ],
      "metadata": {
        "colab": {
          "base_uri": "https://localhost:8080/"
        },
        "id": "WxlY0ZoRw7-U",
        "outputId": "b7da02f7-3428-4337-ade9-d43f4969c289"
      },
      "execution_count": null,
      "outputs": [
        {
          "output_type": "stream",
          "name": "stdout",
          "text": [
            "Enter the number value for n  5\n",
            "hit\n",
            "hit\n",
            "hit\n",
            "hit\n"
          ]
        }
      ]
    },
    {
      "cell_type": "code",
      "source": [
        "#break statement\n",
        "for i in range(1,11):\n",
        "  if i==5:\n",
        "   break\n",
        "  print(i)\n",
        "print(\"End\")"
      ],
      "metadata": {
        "colab": {
          "base_uri": "https://localhost:8080/"
        },
        "id": "jH8C10Flyi8F",
        "outputId": "9dda6b1e-06fc-4d11-fa50-47523166360c"
      },
      "execution_count": null,
      "outputs": [
        {
          "output_type": "stream",
          "name": "stdout",
          "text": [
            "1\n",
            "2\n",
            "3\n",
            "4\n",
            "End\n"
          ]
        }
      ]
    },
    {
      "cell_type": "code",
      "source": [
        "#pattern 1\n",
        "n=int(input('how many numbers do you want to print?\\n '))\n",
        "for i in range(1,n+1):\n",
        "   for j in range(1,i+1):\n",
        "       print('* ',end= ' ')\n",
        "   print(' ')"
      ],
      "metadata": {
        "colab": {
          "base_uri": "https://localhost:8080/"
        },
        "id": "7EHb_XHwzWcl",
        "outputId": "720a31d2-620f-4539-b108-bcefadcefaba"
      },
      "execution_count": null,
      "outputs": [
        {
          "output_type": "stream",
          "name": "stdout",
          "text": [
            "how many numbers do you want to print?\n",
            " 4\n",
            "*   \n",
            "*  *   \n",
            "*  *  *   \n",
            "*  *  *  *   \n"
          ]
        }
      ]
    },
    {
      "cell_type": "code",
      "source": [
        "#pattern 3\n",
        "n=int(input('how many numbers do you want to print?\\n '))\n",
        "for i in range(1,n+1):\n",
        "  print(' '*(n-1),end='')\n",
        "  print('*  '*i,end='')\n",
        "  n-=1\n",
        "  print(' ')"
      ],
      "metadata": {
        "colab": {
          "base_uri": "https://localhost:8080/"
        },
        "id": "8jJAEYne1itV",
        "outputId": "d3bd7f8c-843b-4217-9d7f-b749e4c2717e"
      },
      "execution_count": null,
      "outputs": [
        {
          "output_type": "stream",
          "name": "stdout",
          "text": [
            "how many numbers do you want to print?\n",
            " 6\n",
            "     *   \n",
            "    *  *   \n",
            "   *  *  *   \n",
            "  *  *  *  *   \n",
            " *  *  *  *  *   \n",
            "*  *  *  *  *  *   \n"
          ]
        }
      ]
    },
    {
      "cell_type": "code",
      "source": [],
      "metadata": {
        "id": "bZyGGCiq7Vvd"
      },
      "execution_count": null,
      "outputs": []
    }
  ]
}